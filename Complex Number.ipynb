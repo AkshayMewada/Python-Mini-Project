{
 "cells": [
  {
   "cell_type": "markdown",
   "metadata": {},
   "source": [
    "#  Complex Number Package "
   ]
  },
  {
   "cell_type": "code",
   "execution_count": 1,
   "metadata": {
    "collapsed": true
   },
   "outputs": [],
   "source": [
    "import math\n",
    "\n",
    "# Takes input as shown : ComplexNumber(RealValue,ImginaryValue) \n",
    "class ComplexNumber:\n",
    "    def __init__(self,x,y):\n",
    "        self.x = x\n",
    "        self.y = y\n",
    "        \n",
    "    # Addition of complex Number\n",
    "    def __add__(self, other):\n",
    "        return self.x + other.x, self.y + other.y\n",
    "    \n",
    "    # Subtraction of Complex Number\n",
    "    def __sub__(self, other):\n",
    "        return self.x - other.x, self.y - other.y\n",
    "\n",
    "    # Multiplication of Complex Number \n",
    "    # In Multiplication the complex square i.e (i)^2 = -1\n",
    "    # So I have added -1 in @ self.y^2\n",
    "\n",
    "    def __mul__(self, other):\n",
    "        return self.x*other.x+self.y*other.y*-1, self.x*other.y+self.y*other.x\n",
    "    \n",
    "    # True Divison for Complex Number \n",
    "    # Complex Number is Get multiplied by its opposite equation\n",
    "    def __truediv__(self,other):\n",
    "        C1 = ComplexNumber(self.x,self.y)\n",
    "        C2 = ComplexNumber(other.x,other.y)\n",
    "        C3 = ComplexNumber(other.x,(-1)*other.y)\n",
    "        Numerator = C1.__mul__(C3)\n",
    "        Denominator = C2.__mul__(C3)\n",
    "        try:\n",
    "            real  = Numerator[0]/Denominator[0]\n",
    "            img  =  Numerator[1]/Denominator[0]\n",
    "            return real,img\n",
    "        except ZeroDivisionError:\n",
    "            print('Zero Divide Error')\n",
    "    \n",
    "    # __abs__ to find abosule of complex Number\n",
    "    def __abs__(self):\n",
    "        return math.sqrt(self.x**2 + self.y**2)\n",
    "    \n",
    "    # Returns Real Number of Complex Number\n",
    "    def real(self):\n",
    "        return self.x\n",
    "    \n",
    "    # Returns Imaginary Number of Complex Number\n",
    "    def imaginary(self):\n",
    "        return self.y\n",
    "    \n",
    "    # Argument of Complex Number\n",
    "    def argument(self):\n",
    "        try:\n",
    "            m = self.y/self.x    # dividing the imaginary value by real value \n",
    "            \n",
    "            # first Quadrant of Graph\n",
    "            if(self.x>0 and self.y>0):\n",
    "                return round(math.degrees(math.atan(m)))\n",
    "            \n",
    "            # Second Quadrant of Graph\n",
    "            elif self.x>0 and self.y<0 :\n",
    "                return round(math.degrees(math.atan(m)))\n",
    "            \n",
    "            # Third Quadrant of Graph\n",
    "            elif self.x<0 and self.y>0:\n",
    "                return round(math.degrees(math.atan(m))+180)\n",
    "            \n",
    "            # Forth Quadrant of Graph\n",
    "            elif self.x<0 and self.y<0:\n",
    "                return round(math.degrees(math.atan(m))-180)\n",
    "            \n",
    "            # At X axis Only i.e angle 0 degree\n",
    "            elif(self.y==0):\n",
    "                return 0\n",
    "        # If X is Zero \n",
    "        except ZeroDivisionError:\n",
    "            \n",
    "            # On -ve side of Y Axis i.e. we will get negative infinty value. \n",
    "            if self.y<0:\n",
    "                t = math.degrees(math.atan(-math.inf))\n",
    "                return t\n",
    "            \n",
    "            # On +ve side of Y Axis i.e. we will get positive infinty value. \n",
    "            elif self.y>0:\n",
    "                self.t = math.degrees(math.atan(math.inf))\n",
    "                return t\n",
    "            \n",
    "            # Incase Both Real and Imaginary Values are Zero.\n",
    "            elif self.y==0:\n",
    "                print('Undeined i.e 0/0 is not Defined')\n",
    "    \n",
    "    # Conjugate of Complex Number i.e. Oppsite of Complex Number\n",
    "    def conjugate(self):\n",
    "        return self.x,-1*self.y\n",
    "    "
   ]
  },
  {
   "cell_type": "code",
   "execution_count": 2,
   "metadata": {
    "collapsed": true
   },
   "outputs": [],
   "source": [
    "comp1 = ComplexNumber(1,1)\n",
    "comp2 = ComplexNumber(0,0)"
   ]
  },
  {
   "cell_type": "code",
   "execution_count": 12,
   "metadata": {},
   "outputs": [
    {
     "data": {
      "text/plain": [
       "(1, 1)"
      ]
     },
     "execution_count": 12,
     "metadata": {},
     "output_type": "execute_result"
    }
   ],
   "source": [
    "comp1+comp2"
   ]
  },
  {
   "cell_type": "code",
   "execution_count": 13,
   "metadata": {},
   "outputs": [
    {
     "data": {
      "text/plain": [
       "(1, 1)"
      ]
     },
     "execution_count": 13,
     "metadata": {},
     "output_type": "execute_result"
    }
   ],
   "source": [
    "comp1-comp2"
   ]
  },
  {
   "cell_type": "code",
   "execution_count": 14,
   "metadata": {},
   "outputs": [
    {
     "data": {
      "text/plain": [
       "(0, 0)"
      ]
     },
     "execution_count": 14,
     "metadata": {},
     "output_type": "execute_result"
    }
   ],
   "source": [
    "comp1*comp2"
   ]
  },
  {
   "cell_type": "code",
   "execution_count": 15,
   "metadata": {},
   "outputs": [
    {
     "name": "stdout",
     "output_type": "stream",
     "text": [
      "Zero Divide Error\n"
     ]
    }
   ],
   "source": [
    "comp1/comp2"
   ]
  },
  {
   "cell_type": "code",
   "execution_count": 7,
   "metadata": {},
   "outputs": [
    {
     "data": {
      "text/plain": [
       "45"
      ]
     },
     "execution_count": 7,
     "metadata": {},
     "output_type": "execute_result"
    }
   ],
   "source": [
    "comp1.argument()"
   ]
  },
  {
   "cell_type": "code",
   "execution_count": 8,
   "metadata": {},
   "outputs": [
    {
     "name": "stdout",
     "output_type": "stream",
     "text": [
      "Undeined i.e 0/0 is not Defined\n"
     ]
    }
   ],
   "source": [
    "comp2.argument()"
   ]
  },
  {
   "cell_type": "code",
   "execution_count": 9,
   "metadata": {},
   "outputs": [
    {
     "data": {
      "text/plain": [
       "(1, -1)"
      ]
     },
     "execution_count": 9,
     "metadata": {},
     "output_type": "execute_result"
    }
   ],
   "source": [
    "comp1.conjugate()"
   ]
  },
  {
   "cell_type": "code",
   "execution_count": 10,
   "metadata": {},
   "outputs": [
    {
     "data": {
      "text/plain": [
       "1"
      ]
     },
     "execution_count": 10,
     "metadata": {},
     "output_type": "execute_result"
    }
   ],
   "source": [
    "comp1.real()"
   ]
  },
  {
   "cell_type": "code",
   "execution_count": 11,
   "metadata": {},
   "outputs": [
    {
     "data": {
      "text/plain": [
       "1"
      ]
     },
     "execution_count": 11,
     "metadata": {},
     "output_type": "execute_result"
    }
   ],
   "source": [
    "comp1.imaginary()"
   ]
  },
  {
   "cell_type": "code",
   "execution_count": null,
   "metadata": {
    "collapsed": true
   },
   "outputs": [],
   "source": []
  },
  {
   "cell_type": "code",
   "execution_count": null,
   "metadata": {
    "collapsed": true
   },
   "outputs": [],
   "source": []
  },
  {
   "cell_type": "code",
   "execution_count": null,
   "metadata": {
    "collapsed": true
   },
   "outputs": [],
   "source": []
  }
 ],
 "metadata": {
  "kernelspec": {
   "display_name": "Python 3",
   "language": "python",
   "name": "python3"
  },
  "language_info": {
   "codemirror_mode": {
    "name": "ipython",
    "version": 3
   },
   "file_extension": ".py",
   "mimetype": "text/x-python",
   "name": "python",
   "nbconvert_exporter": "python",
   "pygments_lexer": "ipython3",
   "version": "3.5.3"
  },
  "widgets": {
   "state": {},
   "version": "1.1.2"
  }
 },
 "nbformat": 4,
 "nbformat_minor": 2
}
