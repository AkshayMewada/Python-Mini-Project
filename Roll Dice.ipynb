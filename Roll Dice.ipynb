{
 "cells": [
  {
   "cell_type": "markdown",
   "metadata": {},
   "source": [
    "# Roll Dice\n",
    "Roll Dice is basic project in computer science.\n",
    "- When the program runs, it will randomly choose a number between 1 and 6.\n",
    "- The program will print what that number is. \n",
    "- It should then ask you if you’d like to roll again"
   ]
  },
  {
   "cell_type": "code",
   "execution_count": 1,
   "metadata": {
    "collapsed": true
   },
   "outputs": [],
   "source": [
    "import random"
   ]
  },
  {
   "cell_type": "code",
   "execution_count": null,
   "metadata": {},
   "outputs": [
    {
     "name": "stdout",
     "output_type": "stream",
     "text": [
      "2\n",
      "press\n",
      "      '0': Roll Again \n",
      "'any key':Exit0\n",
      "6\n",
      "press\n",
      "      '0': Roll Again \n",
      "'any key':Exit0\n",
      "6\n",
      "press\n",
      "      '0': Roll Again \n",
      "'any key':Exit0\n",
      "1\n",
      "press\n",
      "      '0': Roll Again \n",
      "'any key':Exit0\n",
      "3\n",
      "press\n",
      "      '0': Roll Again \n",
      "'any key':Exit0\n",
      "6\n"
     ]
    }
   ],
   "source": [
    "def RollDice():\n",
    "    out = random.randint(1,6)\n",
    "    print (out)\n",
    "while True:\n",
    "    RollDice()\n",
    "    inp = int(input(\"press\\n      '0': Roll Again \\n'any key':Exit\"))\n",
    "    if inp == 0:\n",
    "        continue\n",
    "    else: \n",
    "        break"
   ]
  },
  {
   "cell_type": "code",
   "execution_count": null,
   "metadata": {
    "collapsed": true
   },
   "outputs": [],
   "source": []
  }
 ],
 "metadata": {
  "kernelspec": {
   "display_name": "Python 3",
   "language": "python",
   "name": "python3"
  },
  "language_info": {
   "codemirror_mode": {
    "name": "ipython",
    "version": 3
   },
   "file_extension": ".py",
   "mimetype": "text/x-python",
   "name": "python",
   "nbconvert_exporter": "python",
   "pygments_lexer": "ipython3",
   "version": "3.5.3"
  }
 },
 "nbformat": 4,
 "nbformat_minor": 2
}
