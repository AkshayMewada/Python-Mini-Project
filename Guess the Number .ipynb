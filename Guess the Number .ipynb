{
 "cells": [
  {
   "cell_type": "markdown",
   "metadata": {},
   "source": [
    "# Guess The Number\n",
    "Guess the Number is Simple and Exciting project in Computer science.\n",
    "- The program will first randomly generate a number unknown to the user. \n",
    "- The user needs to guess what that number is.\n",
    "- If the user’s guess is wrong, the program should return some sort of indication as to how wrong (e.g. The number is too high or too low). \n",
    "- If the user guesses correctly, a positive indication should appear.\n",
    "\n"
   ]
  },
  {
   "cell_type": "code",
   "execution_count": 1,
   "metadata": {},
   "outputs": [],
   "source": [
    "import random       # to generate Random Number"
   ]
  },
  {
   "cell_type": "code",
   "execution_count": 2,
   "metadata": {
    "scrolled": false
   },
   "outputs": [
    {
     "name": "stdout",
     "output_type": "stream",
     "text": [
      "\n",
      "Number of Turns 5\n",
      "User Guess 20\n",
      "UserInput is too high\n",
      "User Guess 10\n",
      "UserInput is too high\n",
      "User Guess 5\n",
      "UserInput is too low\n",
      "User Guess 7\n",
      "UserInput is too low\n",
      "User Guess 9\n",
      "Hurray....You Guessed Coreect Number.....The Number is 9 \n",
      "You Won the Game\n",
      "press '0' to continue or 'any key' Exit0\n",
      "\n",
      "Number of Turns 5\n",
      "User Guess 10\n",
      "UserInput is too high\n",
      "User Guess 5\n",
      "UserInput is too low\n",
      "User Guess 7\n",
      "UserInput is too high\n",
      "User Guess 6\n",
      "Hurray....You Guessed Coreect Number.....The Number is 6 \n",
      "You Won the Game\n",
      "press '0' to continue or 'any key' Exit5\n"
     ]
    }
   ],
   "source": [
    "def GuesstheNumber(N):\n",
    "    i = int(input('\\nNumber of Turns '))          # Number of turns\n",
    "    \n",
    "    while i>0:\n",
    "        UserInput = int(input('User Guess '))     # User Guessing Number\n",
    "        \n",
    "        if UserInput != N:\n",
    "            if UserInput>N:\n",
    "                print ('UserInput is too high')\n",
    "            else:\n",
    "                print ('UserInput is too low')\n",
    "                \n",
    "        else:\n",
    "            print ('Hurray....You Guessed Coreect Number.....The Number is {} '.format(N))\n",
    "            print ('You Won the Game')\n",
    "            \n",
    "            break\n",
    "        i=i-1\n",
    "    if i==0:\n",
    "        print ('You Losed Game....The Number is {} '.format(N))\n",
    "    \n",
    "\n",
    "\n",
    "while True:    \n",
    "    N = random.randint(1,20)                   # Random Number to Guess\n",
    "    GuesstheNumber(N)                          # Function to Guess Number\n",
    "    \n",
    "    inp=int(input(\"press '0' to continue or 'any key' Exit\")) # Exit Game or Continue\n",
    "    \n",
    "    if inp == 0:\n",
    "        continue\n",
    "    else:\n",
    "        break"
   ]
  },
  {
   "cell_type": "code",
   "execution_count": null,
   "metadata": {
    "collapsed": true
   },
   "outputs": [],
   "source": []
  }
 ],
 "metadata": {
  "kernelspec": {
   "display_name": "Python 3",
   "language": "python",
   "name": "python3"
  },
  "language_info": {
   "codemirror_mode": {
    "name": "ipython",
    "version": 3
   },
   "file_extension": ".py",
   "mimetype": "text/x-python",
   "name": "python",
   "nbconvert_exporter": "python",
   "pygments_lexer": "ipython3",
   "version": "3.5.3"
  }
 },
 "nbformat": 4,
 "nbformat_minor": 2
}
